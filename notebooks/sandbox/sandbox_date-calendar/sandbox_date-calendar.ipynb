{
 "cells": [
  {
   "cell_type": "markdown",
   "metadata": {},
   "source": [
    "# Date, Calendar"
   ]
  },
  {
   "cell_type": "code",
   "execution_count": 14,
   "metadata": {},
   "outputs": [],
   "source": [
    "import datetime as dt"
   ]
  },
  {
   "cell_type": "code",
   "execution_count": 15,
   "metadata": {},
   "outputs": [],
   "source": [
    "dateFormat = \"%Y-%m-%d\""
   ]
  },
  {
   "cell_type": "code",
   "execution_count": 16,
   "metadata": {},
   "outputs": [],
   "source": [
    "dtStart = dt.datetime.strptime( '2019-02-27', dateFormat)\n",
    "dtEnd = dt.datetime.strptime( '2019-03-02', dateFormat)"
   ]
  },
  {
   "cell_type": "code",
   "execution_count": 17,
   "metadata": {},
   "outputs": [
    {
     "data": {
      "text/plain": [
       "datetime.datetime(2019, 2, 27, 0, 0)"
      ]
     },
     "execution_count": 17,
     "metadata": {},
     "output_type": "execute_result"
    }
   ],
   "source": [
    "dtStart"
   ]
  },
  {
   "cell_type": "markdown",
   "metadata": {},
   "source": [
    "## Days between start and end dates"
   ]
  },
  {
   "cell_type": "code",
   "execution_count": 18,
   "metadata": {},
   "outputs": [
    {
     "data": {
      "text/plain": [
       "['2019-02-27', '2019-02-28', '2019-03-01', '2019-03-02']"
      ]
     },
     "execution_count": 18,
     "metadata": {},
     "output_type": "execute_result"
    }
   ],
   "source": [
    "datesList = [(dtStart + dt.timedelta(days=x)).strftime(dateFormat) for x in range(0, (dtEnd-dtStart).days + 1)]\n",
    "datesList"
   ]
  },
  {
   "cell_type": "markdown",
   "metadata": {},
   "source": [
    "# Helpers"
   ]
  },
  {
   "cell_type": "code",
   "execution_count": 19,
   "metadata": {},
   "outputs": [],
   "source": [
    "def diffDays(d, D):\n",
    "    a = dt.datetime.strptime( d, dateFormat)\n",
    "    b = dt.datetime.strptime( D, dateFormat)\n",
    "    return  (b - a).days "
   ]
  },
  {
   "cell_type": "code",
   "execution_count": 20,
   "metadata": {},
   "outputs": [],
   "source": [
    "def formatTime( strTimestamp ):\n",
    "    _dateFormat = \"%Y-%m-%d\"\n",
    "    tm =  int( strTimestamp[0:-3])\n",
    "    dateTime = dt.datetime.fromtimestamp(tm)\n",
    "    d = dateTime.strftime(_dateFormat)\n",
    "    return d"
   ]
  },
  {
   "cell_type": "code",
   "execution_count": 21,
   "metadata": {},
   "outputs": [],
   "source": [
    "def incrementDate(orgDate, _days):\n",
    "    return (dt.datetime.strptime(orgDate, dateFormat) + timedelta(days=_days)).strftime(dateFormat)"
   ]
  },
  {
   "cell_type": "markdown",
   "metadata": {},
   "source": [
    "## Extend days infos"
   ]
  },
  {
   "cell_type": "code",
   "execution_count": 22,
   "metadata": {},
   "outputs": [],
   "source": [
    "def mapDay(daysList, date):\n",
    "    dtDate = dt.datetime.strptime( date, dateFormat)\n",
    "    \n",
    "    idx = daysList.index(date)\n",
    "    if idx < 7:\n",
    "        week = 1\n",
    "    elif idx < 14:\n",
    "        week = 2\n",
    "    else:\n",
    "        week = 3\n",
    "    \n",
    "    return {\n",
    "        'date': date,\n",
    "        'dayWeek': dtDate.weekday(), # 0 = Monday\n",
    "        'isWeekend': 0 if dtDate.weekday() < 5 else 1 ,\n",
    "        'sprintDay': idx,\n",
    "        'sprintWeek': week\n",
    "    }"
   ]
  },
  {
   "cell_type": "code",
   "execution_count": 23,
   "metadata": {},
   "outputs": [
    {
     "data": {
      "text/plain": [
       "[{'date': '2019-02-27',\n",
       "  'dayWeek': 2,\n",
       "  'isWeekend': 0,\n",
       "  'sprintDay': 0,\n",
       "  'sprintWeek': 1},\n",
       " {'date': '2019-02-28',\n",
       "  'dayWeek': 3,\n",
       "  'isWeekend': 0,\n",
       "  'sprintDay': 1,\n",
       "  'sprintWeek': 1}]"
      ]
     },
     "execution_count": 23,
     "metadata": {},
     "output_type": "execute_result"
    }
   ],
   "source": [
    "# Usage\n",
    "calender = [ mapDay(datesList, date) for date in datesList ]\n",
    "calender[0:2]"
   ]
  },
  {
   "cell_type": "markdown",
   "metadata": {},
   "source": [
    "## Store"
   ]
  },
  {
   "cell_type": "code",
   "execution_count": 36,
   "metadata": {},
   "outputs": [],
   "source": [
    "# %store datesList\n",
    "# %store calender"
   ]
  },
  {
   "cell_type": "code",
   "execution_count": null,
   "metadata": {},
   "outputs": [],
   "source": []
  }
 ],
 "metadata": {
  "kernelspec": {
   "display_name": "Python 3",
   "language": "python",
   "name": "python3"
  },
  "language_info": {
   "codemirror_mode": {
    "name": "ipython",
    "version": 3
   },
   "file_extension": ".py",
   "mimetype": "text/x-python",
   "name": "python",
   "nbconvert_exporter": "python",
   "pygments_lexer": "ipython3",
   "version": "3.7.4"
  }
 },
 "nbformat": 4,
 "nbformat_minor": 2
}
