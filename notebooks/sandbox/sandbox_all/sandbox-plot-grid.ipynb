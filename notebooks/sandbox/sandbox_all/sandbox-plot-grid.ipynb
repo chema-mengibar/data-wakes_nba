{
 "cells": [
  {
   "cell_type": "markdown",
   "metadata": {},
   "source": [
    "# Plot grid"
   ]
  },
  {
   "cell_type": "code",
   "execution_count": null,
   "metadata": {},
   "outputs": [],
   "source": [
    "ax.yaxis.grid(color='gray', linestyle='dashed')\n",
    "ax.xaxis.grid(color='gray', linestyle='dashed')\n"
   ]
  },
  {
   "cell_type": "code",
   "execution_count": null,
   "metadata": {},
   "outputs": [],
   "source": [
    "## Error\n",
    "# labelsX = [ f'{sprintDayIdx} \\n {sprintDatesList[sprintDayIdx]}' for sprintDayIdx in ax.get_xticks().tolist() ]\n",
    "# ax.set_xticklabels(labelsX, ha='left')\n",
    "\n",
    "## Draw dots\n",
    "# ax.scatter( x=_xDots, y=_yDots, s=200, zorder=5, color='none', edgecolors='red' )"
   ]
  }
 ],
 "metadata": {
  "kernelspec": {
   "display_name": "Python 3",
   "language": "python",
   "name": "python3"
  },
  "language_info": {
   "codemirror_mode": {
    "name": "ipython",
    "version": 3
   },
   "file_extension": ".py",
   "mimetype": "text/x-python",
   "name": "python",
   "nbconvert_exporter": "python",
   "pygments_lexer": "ipython3",
   "version": "3.7.4"
  }
 },
 "nbformat": 4,
 "nbformat_minor": 2
}
