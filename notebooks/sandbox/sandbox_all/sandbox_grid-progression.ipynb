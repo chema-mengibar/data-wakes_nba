{
 "cells": [
  {
   "cell_type": "markdown",
   "metadata": {},
   "source": [
    "# Grip Progression"
   ]
  },
  {
   "cell_type": "code",
   "execution_count": 6,
   "metadata": {},
   "outputs": [],
   "source": [
    "import json\n",
    "import numpy as np\n",
    "import pandas as pd\n",
    "from pandas.io.json import json_normalize\n",
    "import matplotlib.pyplot as plt\n",
    "import datetime as dt"
   ]
  },
  {
   "cell_type": "code",
   "execution_count": 7,
   "metadata": {},
   "outputs": [
    {
     "data": {
      "text/html": [
       "<div>\n",
       "<style scoped>\n",
       "    .dataframe tbody tr th:only-of-type {\n",
       "        vertical-align: middle;\n",
       "    }\n",
       "\n",
       "    .dataframe tbody tr th {\n",
       "        vertical-align: top;\n",
       "    }\n",
       "\n",
       "    .dataframe thead th {\n",
       "        text-align: right;\n",
       "    }\n",
       "</style>\n",
       "<table border=\"1\" class=\"dataframe\">\n",
       "  <thead>\n",
       "    <tr style=\"text-align: right;\">\n",
       "      <th></th>\n",
       "      <th>statusName</th>\n",
       "      <th>statusId</th>\n",
       "      <th>date</th>\n",
       "      <th>day</th>\n",
       "      <th>taskId</th>\n",
       "      <th>sp</th>\n",
       "    </tr>\n",
       "  </thead>\n",
       "  <tbody>\n",
       "    <tr>\n",
       "      <td>0</td>\n",
       "      <td>status-b</td>\n",
       "      <td>1</td>\n",
       "      <td>20150402</td>\n",
       "      <td>2</td>\n",
       "      <td>task-0000</td>\n",
       "      <td>3</td>\n",
       "    </tr>\n",
       "    <tr>\n",
       "      <td>1</td>\n",
       "      <td>status-c</td>\n",
       "      <td>2</td>\n",
       "      <td>20150403</td>\n",
       "      <td>3</td>\n",
       "      <td>task-0000</td>\n",
       "      <td>3</td>\n",
       "    </tr>\n",
       "    <tr>\n",
       "      <td>2</td>\n",
       "      <td>status-d</td>\n",
       "      <td>3</td>\n",
       "      <td>20150403</td>\n",
       "      <td>3</td>\n",
       "      <td>task-0000</td>\n",
       "      <td>3</td>\n",
       "    </tr>\n",
       "    <tr>\n",
       "      <td>3</td>\n",
       "      <td>status-i</td>\n",
       "      <td>-1</td>\n",
       "      <td>20150403</td>\n",
       "      <td>3</td>\n",
       "      <td>task-0000</td>\n",
       "      <td>3</td>\n",
       "    </tr>\n",
       "    <tr>\n",
       "      <td>4</td>\n",
       "      <td>status-b</td>\n",
       "      <td>1</td>\n",
       "      <td>20150403</td>\n",
       "      <td>3</td>\n",
       "      <td>task-0000</td>\n",
       "      <td>3</td>\n",
       "    </tr>\n",
       "  </tbody>\n",
       "</table>\n",
       "</div>"
      ],
      "text/plain": [
       "  statusName  statusId      date  day     taskId  sp\n",
       "0   status-b         1  20150402    2  task-0000   3\n",
       "1   status-c         2  20150403    3  task-0000   3\n",
       "2   status-d         3  20150403    3  task-0000   3\n",
       "3   status-i        -1  20150403    3  task-0000   3\n",
       "4   status-b         1  20150403    3  task-0000   3"
      ]
     },
     "execution_count": 7,
     "metadata": {},
     "output_type": "execute_result"
    }
   ],
   "source": [
    "# Load Json Data an map nested structures to columns in dataframes\n",
    "with open('./data/grid-progression.json') as f: \n",
    "    progressionData = json.load(f) \n",
    "\n",
    "def normalizeJson( jsonEntry, idx ):\n",
    "    df = json_normalize( data=jsonEntry['status'], meta=[ 'statusId','day'] )\n",
    "    df['taskId'] = jsonEntry['task']\n",
    "    df['sp'] = jsonEntry['sp']\n",
    "    return df\n",
    "\n",
    "dataFrames = [ normalizeJson(jsonItem, idx) for idx, jsonItem in enumerate(progressionData) ]\n",
    "dfA = pd.concat(dataFrames).reset_index(drop=True)\n",
    "\n",
    "dfA.head(5)"
   ]
  },
  {
   "cell_type": "markdown",
   "metadata": {},
   "source": [
    "## Plot"
   ]
  },
  {
   "cell_type": "code",
   "execution_count": 8,
   "metadata": {},
   "outputs": [],
   "source": [
    "dfPlot = dfA\n",
    "listTasks = list(dfPlot.taskId.unique())"
   ]
  },
  {
   "cell_type": "code",
   "execution_count": 9,
   "metadata": {},
   "outputs": [],
   "source": [
    "nCols = 1\n",
    "nRows = len(listTasks) if(nCols==1) else   int(len(listTasks)/nCols)"
   ]
  },
  {
   "cell_type": "code",
   "execution_count": 10,
   "metadata": {},
   "outputs": [
    {
     "data": {
      "image/png": "[encoded data removed]",
      "text/plain": [
       "<Figure size 432x288 with 2 Axes>"
      ]
     },
     "metadata": {
      "needs_background": "light"
     },
     "output_type": "display_data"
    }
   ],
   "source": [
    "fig, axs = plt.subplots(ncols=nCols, nrows=nRows, constrained_layout=True)\n",
    "fig.suptitle(f'Plot Example')\n",
    "# fig.set_size_inches(8, 15)\n",
    "\n",
    "custom_xlim = (0, 22)\n",
    "custom_ylim = (-1, 7)\n",
    "\n",
    "cursorCol = 0\n",
    "cursorRow = 0\n",
    "\n",
    "for _taskId in listTasks:\n",
    "    dfBuf = dfPlot[dfPlot['taskId']== _taskId] \n",
    "        \n",
    "    if( nRows == 1 or nCols == 1):\n",
    "        a= axs[(cursorRow*cursorCol)+cursorCol]\n",
    "    else:\n",
    "        a= axs[cursorRow, cursorCol] \n",
    "        \n",
    "    _x = dfBuf.day\n",
    "    _y = dfBuf.statusName\n",
    "    a.plot(_x, _y, zorder=3)\n",
    "    \n",
    "    a.grid()\n",
    "    a.set_xticks(np.arange( 0, 22, 1.0))\n",
    "    a.set_yticks(np.arange( -1, 7, 1.0))\n",
    "    a.set_title( _taskId )\n",
    "\n",
    "    cursorCol += 1\n",
    "    if cursorCol > nCols:\n",
    "        cursorCol = 0\n",
    "        cursorRow += 1\n",
    "\n",
    "\n",
    "## Show and save\n",
    "plt.show()\n",
    "# fig.savefig(reportFullPath)"
   ]
  },
  {
   "cell_type": "code",
   "execution_count": null,
   "metadata": {},
   "outputs": [],
   "source": []
  }
 ],
 "metadata": {
  "kernelspec": {
   "display_name": "Python 3",
   "language": "python",
   "name": "python3"
  },
  "language_info": {
   "codemirror_mode": {
    "name": "ipython",
    "version": 3
   },
   "file_extension": ".py",
   "mimetype": "text/x-python",
   "name": "python",
   "nbconvert_exporter": "python",
   "pygments_lexer": "ipython3",
   "version": "3.7.4"
  }
 },
 "nbformat": 4,
 "nbformat_minor": 2
}
