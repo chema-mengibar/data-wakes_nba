{
 "cells": [
  {
   "cell_type": "markdown",
   "metadata": {},
   "source": [
    "# Shared Class"
   ]
  },
  {
   "cell_type": "code",
   "execution_count": 1,
   "metadata": {},
   "outputs": [],
   "source": [
    "class AuthorsClass:\n",
    "    authorsList = [\n",
    "        {'names':['-'], 'alias':'Author-0', 'color':'#cccccc' },\n",
    "        {'names':['name1', 'Full name 1'], 'alias':'Author-1', 'color':'#8F2D56' },\n",
    "        {'names':['name2', 'Full name 2'], 'alias':'Author-2', 'color':'#D81159' },\n",
    "        {'names':['name3', 'Full name 3'], 'alias':'Author-3', 'color':'#218380' },\n",
    "        {'names':['name4', 'Full name 4'], 'alias':'Author-4', 'color':'#FBB13C' },\n",
    "     \n",
    "    ]\n",
    "    def getAuthorAlias( self, authorName ):\n",
    "        alias = ''\n",
    "        for author in self.authorsList:\n",
    "            if authorName in author['names']:\n",
    "                alias = author['alias']\n",
    "        if alias == '':\n",
    "            alias = getAuthorAlias('-')\n",
    "        return alias\n",
    "    \n",
    "    def getAuthorColor( self, authorName ):\n",
    "        color = ''\n",
    "        for author in self.authorsList:\n",
    "            if authorName in author['names']:\n",
    "                color = author['color']\n",
    "        if color == '':\n",
    "            color = self.getAuthorColor( '-' )\n",
    "        return color\n",
    "    \n",
    "    def getAliasColor( self, alias ):\n",
    "        color = ''\n",
    "        for author in self.authorsList:\n",
    "            if alias == author['alias']:\n",
    "                color = author['color']\n",
    "        if color == '':\n",
    "            unknownAlias = self.getAuthorAlias( '-' )\n",
    "            color = self.getAliasColor( unknownAlias )\n",
    "        return color\n",
    "\n"
   ]
  },
  {
   "cell_type": "code",
   "execution_count": 2,
   "metadata": {},
   "outputs": [],
   "source": [
    "Authors = AuthorsClass()"
   ]
  },
  {
   "cell_type": "markdown",
   "metadata": {},
   "source": [
    "# Usage in other Notebook"
   ]
  },
  {
   "cell_type": "code",
   "execution_count": null,
   "metadata": {},
   "outputs": [],
   "source": [
    "# %run ../PATH_TO_THIS_DIR/sandbox-shared-class.ipynb"
   ]
  },
  {
   "cell_type": "code",
   "execution_count": null,
   "metadata": {},
   "outputs": [],
   "source": [
    "# Authors.authorsList\n",
    "# print( Authors.getAuthorAlias('cactus'), Authors.getAuthorAlias('-'), Authors.getAuthorAlias('name1') )"
   ]
  }
 ],
 "metadata": {
  "kernelspec": {
   "display_name": "Python 3",
   "language": "python",
   "name": "python3"
  },
  "language_info": {
   "codemirror_mode": {
    "name": "ipython",
    "version": 3
   },
   "file_extension": ".py",
   "mimetype": "text/x-python",
   "name": "python",
   "nbconvert_exporter": "python",
   "pygments_lexer": "ipython3",
   "version": "3.7.4"
  }
 },
 "nbformat": 4,
 "nbformat_minor": 2
}
