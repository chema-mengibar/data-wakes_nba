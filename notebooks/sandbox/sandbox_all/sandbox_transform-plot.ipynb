{
 "cells": [
  {
   "cell_type": "markdown",
   "metadata": {},
   "source": [
    "# Transform and Plot"
   ]
  },
  {
   "cell_type": "code",
   "execution_count": 1,
   "metadata": {},
   "outputs": [],
   "source": [
    "import sys\n",
    "import os\n",
    "import urllib, base64\n",
    "import datetime as dt\n",
    "import numpy as np\n",
    "import pandas as pd\n",
    "import json \n",
    "from pandas.io.json import json_normalize  \n",
    "import matplotlib.pyplot as plt\n",
    "import matplotlib.patches as mpatches\n",
    "from matplotlib import colors as mcolors\n",
    "import re\n",
    "from decimal import Decimal\n",
    "from datetime import timedelta"
   ]
  },
  {
   "cell_type": "code",
   "execution_count": null,
   "metadata": {},
   "outputs": [],
   "source": []
  },
  {
   "cell_type": "code",
   "execution_count": null,
   "metadata": {},
   "outputs": [],
   "source": [
    "# Uniques\n",
    "for item in list(plotDf.columnName.unique()):\n",
    "    item\n",
    "    \n"
   ]
  },
  {
   "cell_type": "markdown",
   "metadata": {},
   "source": [
    "# Plot 1"
   ]
  },
  {
   "cell_type": "code",
   "execution_count": null,
   "metadata": {},
   "outputs": [],
   "source": [
    "_xDots = dfPredict['_endDate']\n",
    "_yDots =  dfPredict['pic'] "
   ]
  },
  {
   "cell_type": "code",
   "execution_count": null,
   "metadata": {},
   "outputs": [],
   "source": [
    "# Legends\n",
    "legendLabels = list(plotDf['author'].unique())\n",
    "\n",
    "legends = []\n",
    "for legendLabel in legendLabels:\n",
    "    patch = mpatches.Patch(color=Authors.getAliasColor(legendLabel), label=legendLabel)\n",
    "    legends.append(patch)\n",
    "\n",
    "legends[0:2]\n"
   ]
  },
  {
   "cell_type": "code",
   "execution_count": null,
   "metadata": {},
   "outputs": [],
   "source": [
    "# Report\n",
    "reportPath = '../../reports/'\n",
    "reportFileName = f'{_notebookFolder}__cA__sprint-{_sprintNumber}.png'\n",
    "reportFullPath = reportPath + reportFileName"
   ]
  },
  {
   "cell_type": "code",
   "execution_count": null,
   "metadata": {},
   "outputs": [],
   "source": [
    "# Plot\n",
    "\n",
    "## Figure\n",
    "fig, ax = plt.subplots()\n",
    "fig.set_size_inches(25, 8)\n",
    "\n",
    "\n",
    "## Assign data columns to plot:axis, labels, etc...\n",
    "_y = plotDf.pic  # OR _pic_idx plotDf.author +\n",
    "_yLabelAgg = plotDf.sp\n",
    "_x = plotDf._plt_pos_X + (plotDf._plt_pos_x * plotDf._plt_width)\n",
    "_size = plotDf._plt_width\n",
    "_colors = plotDf.author.apply(lambda x: Authors.getAliasColor(x))\n",
    "_labels = plotDf.statusName\n",
    "\n",
    "## Grid\n",
    "plt.grid()\n",
    "\n",
    "plt.draw() ## Important to ticks\n",
    "fig.text(0.5, 0.9, f'Sprint {sprintNumber}', fontsize=14)\n",
    "\n",
    "ax.set_xlim( sprintDay_from, sprintDay_to)\n",
    "plt.xticks(np.arange(sprintDay_from, sprintDay_to, 1))\n",
    "\n",
    "labelsX = [ f'{sprintDayIdx} \\n {sprintDatesList[sprintDayIdx]}' for sprintDayIdx in ax.get_xticks().tolist() ]\n",
    "ax.set_xticklabels(labelsX, ha='left')\n",
    "\n",
    "## Draw dots\n",
    "ax.scatter( x=_xDots, y=_yDots, s=200, zorder=5, color='none', edgecolors='red' )\n",
    "\n",
    "## Draw bars\n",
    "for i,a in enumerate(_x):\n",
    "    ax.barh( y=_y[i], width=_size[i], left=_x[i], color=_colors[i], zorder=3)\n",
    "    \n",
    "## Draw bars weekend\n",
    "labels = _y.unique()\n",
    "plt.ylim((0,len(labels)))\n",
    "top = len(labels)*2\n",
    "for i,day in enumerate(calender):\n",
    "    ax.barh( y=0, width=1, height=top, left=i, color=weekendColor(day), zorder=1)\n",
    "    \n",
    "## Legends\n",
    "ax.legend(handles=legends)\n",
    "\n",
    "## Show and save\n",
    "plt.show()\n",
    "fig.savefig(reportFullPath)"
   ]
  },
  {
   "cell_type": "markdown",
   "metadata": {},
   "source": [
    "# Plot 2"
   ]
  },
  {
   "cell_type": "code",
   "execution_count": null,
   "metadata": {},
   "outputs": [],
   "source": [
    "nCols = 3\n",
    "nRows = int(len(listPics) / nCols) + 1\n",
    "\n",
    "fig, axs = plt.subplots(ncols=nCols, nrows=nRows, constrained_layout=True) # \n",
    "fig.suptitle(f'PICs status progression in Sprint {_sprintNumber}')\n",
    "fig.set_size_inches(15, 20)\n",
    "\n",
    "custom_xlim = (0, 22)\n",
    "custom_ylim = (-1, 7)\n",
    "\n",
    "countCol = 0\n",
    "countRow = 0\n",
    "\n",
    "for _pic in listPics:\n",
    "    dfBuf = dfPlot[dfPlot['pic']== _pic ] \n",
    "    _x = dfBuf.sprintDay\n",
    "    _y = dfBuf.statusName # dfBuf.statusName | statusId\n",
    "    \n",
    "    posCol = countCol\n",
    "    posRow = countRow\n",
    "    \n",
    "    a= axs[posRow, posCol]\n",
    "    a.plot(_x, _y, zorder=3)\n",
    "    \n",
    "    for fd in freedays:\n",
    "        a.plot( fd[0], fd[1], linestyle='-', linewidth=2, color='red', zorder=1)\n",
    "    \n",
    "    a.grid()\n",
    "    a.set_xticks(np.arange( 0, 22, 1.0))\n",
    "    a.set_yticks(np.arange( -1, 7, 1.0))\n",
    "    a.set_title( _pic )\n",
    "\n",
    "    countCol += 1\n",
    "    if countCol == nCols:\n",
    "        countCol = 0\n",
    "        countRow += 1\n",
    "\n",
    "\n",
    "## Show and save\n",
    "plt.show()\n",
    "fig.savefig(reportFullPath)"
   ]
  }
 ],
 "metadata": {
  "kernelspec": {
   "display_name": "Python 3",
   "language": "python",
   "name": "python3"
  },
  "language_info": {
   "codemirror_mode": {
    "name": "ipython",
    "version": 3
   },
   "file_extension": ".py",
   "mimetype": "text/x-python",
   "name": "python",
   "nbconvert_exporter": "python",
   "pygments_lexer": "ipython3",
   "version": "3.7.4"
  }
 },
 "nbformat": 4,
 "nbformat_minor": 2
}
